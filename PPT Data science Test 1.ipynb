{
 "cells": [
  {
   "cell_type": "code",
   "execution_count": 5,
   "id": "74d037fb-2d85-4cdc-af2c-31ab3124bde4",
   "metadata": {},
   "outputs": [
    {
     "name": "stdout",
     "output_type": "stream",
     "text": [
      "[2, 4, 6, 8, 10]\n"
     ]
    }
   ],
   "source": [
    "#Answer17\n",
    "input_list = [1, 2, 3, 4, 5, 6, 7, 8, 9, 10]\n",
    "def get_even_numbers(input_list):\n",
    "      return[num for num in input_list if num % 2 == 0]\n",
    "even_numbers = get_even_numbers(input_list)\n",
    "print(even_numbers)"
   ]
  },
  {
   "cell_type": "code",
   "execution_count": 6,
   "id": "faf4d902-013e-4598-9267-d81bcc4d97ef",
   "metadata": {},
   "outputs": [],
   "source": [
    "#Answer18\n",
    "import time\n",
    "def timer(func):\n",
    "    def wrapper(*args, **kwargs):\n",
    "        start_time = time.time()\n",
    "        result = func(*args, **kwargs)\n",
    "        end_time = time.time()\n",
    "        execution_time = end_time - start_time\n",
    "        print(f\"Execution time: {execution_time} seconds\")\n",
    "        return result\n",
    "    return wrapper"
   ]
  },
  {
   "cell_type": "code",
   "execution_count": 12,
   "id": "5e398708-ad5c-41d4-8b65-1c9e60117de3",
   "metadata": {},
   "outputs": [
    {
     "name": "stdout",
     "output_type": "stream",
     "text": [
      "Execution time: 2.0638504028320312 seconds\n",
      "500000500000\n"
     ]
    }
   ],
   "source": [
    "@timer\n",
    "\n",
    "def calculate_sum(n):\n",
    "    time.sleep(2)\n",
    "    total = 0\n",
    "    for i in range(1, n+1):\n",
    "        total += i\n",
    "    return total\n",
    "    \n",
    "result = calculate_sum(1000000)\n",
    "\n",
    "print(result)"
   ]
  },
  {
   "cell_type": "code",
   "execution_count": 14,
   "id": "e16709be-73d6-48d6-a722-17c6891fc1c5",
   "metadata": {},
   "outputs": [
    {
     "name": "stdout",
     "output_type": "stream",
     "text": [
      "Mean: 3.0\n"
     ]
    }
   ],
   "source": [
    "#Answer19\n",
    "#Here's an implementation of the calculate_mean function that calculates the mean (average) of a list of numbers:\n",
    "nums = [1,2,3,4,5]\n",
    "def calculate_mean(nums):\n",
    "    total = sum(nums)\n",
    "    count = len(nums)\n",
    "    mean = total/count\n",
    "    return mean\n",
    "mean_value = calculate_mean(nums)\n",
    "print(\"Mean:\" ,mean_value)"
   ]
  },
  {
   "cell_type": "code",
   "execution_count": 20,
   "id": "fdb896cb-9ada-4e28-a245-64359aeebd45",
   "metadata": {},
   "outputs": [],
   "source": [
    "#Answer20\n",
    "#To perform a two-sample t-test and calculate the p-value using the scipy.stats module in Python, you can use the following implementation of the perform_hypothesis_test function."
   ]
  },
  {
   "cell_type": "code",
   "execution_count": 19,
   "id": "72c41c42-9373-4a69-88f4-dd1180d283d3",
   "metadata": {},
   "outputs": [
    {
     "name": "stdout",
     "output_type": "stream",
     "text": [
      "P_value: 0.08814861019930578\n"
     ]
    }
   ],
   "source": [
    "sample1 = [50,100,150,200,250]\n",
    "sample2 = [60, 70, 80, 90, 100]\n",
    "from scipy import stats\n",
    "\n",
    "def perform_hypothesis_test(sample1, sample2):\n",
    "    t_statistic, p_value = stats.ttest_ind(sample1, sample2)\n",
    "    return p_value\n",
    "\n",
    "p_value = perform_hypothesis_test(sample1, sample2)\n",
    "print(\"P_value:\", p_value)"
   ]
  },
  {
   "cell_type": "code",
   "execution_count": null,
   "id": "b8b42498-f29b-4d74-ad32-4ce89487187a",
   "metadata": {},
   "outputs": [],
   "source": []
  }
 ],
 "metadata": {
  "kernelspec": {
   "display_name": "Python 3 (ipykernel)",
   "language": "python",
   "name": "python3"
  },
  "language_info": {
   "codemirror_mode": {
    "name": "ipython",
    "version": 3
   },
   "file_extension": ".py",
   "mimetype": "text/x-python",
   "name": "python",
   "nbconvert_exporter": "python",
   "pygments_lexer": "ipython3",
   "version": "3.10.8"
  }
 },
 "nbformat": 4,
 "nbformat_minor": 5
}
